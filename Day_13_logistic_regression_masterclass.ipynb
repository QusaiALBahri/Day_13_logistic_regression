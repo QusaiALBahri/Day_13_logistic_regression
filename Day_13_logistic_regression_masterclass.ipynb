{
  "cells": [
    {
      "cell_type": "markdown",
      "metadata": {
        "id": "view-in-github",
        "colab_type": "text"
      },
      "source": [
        "<a href=\"https://colab.research.google.com/github/QusaiALBahri/Day_13_logistic_regression/blob/main/Day_13_logistic_regression_masterclass.ipynb\" target=\"_parent\"><img src=\"https://colab.research.google.com/assets/colab-badge.svg\" alt=\"Open In Colab\"/></a>"
      ]
    },
    {
      "cell_type": "markdown",
      "id": "aea74b7d",
      "metadata": {
        "id": "aea74b7d"
      },
      "source": [
        "# Logistic Regression — Super Comprehensive Masterclass (English Only)"
      ]
    },
    {
      "cell_type": "markdown",
      "id": "ed05c094",
      "metadata": {
        "id": "ed05c094"
      },
      "source": [
        "*Built on September 27, 2025 (UTC).*  \n",
        "This notebook places a **full explanation before each code cell**. For plotting, all commands live in a **single cell per plot** so figures render correctly in Jupyter."
      ]
    },
    {
      "cell_type": "markdown",
      "id": "24395857",
      "metadata": {
        "id": "24395857"
      },
      "source": [
        "### Explanation\n",
        "**Learning Goals**\n",
        "- Build intuition for probabilities, odds, log-odds, and the sigmoid function.\n",
        "- Define the logistic regression model and the decision rule.\n",
        "- Train from scratch with NumPy (log-loss, gradients, gradient descent).\n",
        "- Use scikit-learn for regularized logistic regression and pipelines.\n",
        "- Evaluate with accuracy, precision, recall, F1, ROC/AUC, PR curves.\n",
        "- Tune thresholds, handle class imbalance, and interpret coefficients (odds ratios).\n",
        "- Understand multiclass extensions (OvR vs. multinomial/softmax).\n",
        "- Avoid common pitfalls (data leakage, scaling, convergence, interpretation)."
      ]
    },
    {
      "cell_type": "markdown",
      "id": "cb41b490",
      "metadata": {
        "id": "cb41b490"
      },
      "source": [
        "### Explanation\n",
        "Import core libraries and set a seed for reproducibility."
      ]
    },
    {
      "cell_type": "code",
      "execution_count": null,
      "id": "5ba3d900",
      "metadata": {
        "id": "5ba3d900"
      },
      "outputs": [],
      "source": [
        "import numpy as np"
      ]
    },
    {
      "cell_type": "code",
      "execution_count": null,
      "id": "f860b3a3",
      "metadata": {
        "id": "f860b3a3"
      },
      "outputs": [],
      "source": [
        "import pandas as pd"
      ]
    },
    {
      "cell_type": "code",
      "execution_count": null,
      "id": "41b76a1b",
      "metadata": {
        "id": "41b76a1b"
      },
      "outputs": [],
      "source": [
        "import matplotlib.pyplot as plt"
      ]
    },
    {
      "cell_type": "code",
      "execution_count": null,
      "id": "3833dbed",
      "metadata": {
        "id": "3833dbed"
      },
      "outputs": [],
      "source": [
        "np.random.seed(42)"
      ]
    },
    {
      "cell_type": "markdown",
      "id": "610cc648",
      "metadata": {
        "id": "610cc648"
      },
      "source": [
        "### Explanation\n",
        "Define the sigmoid and sample it for visualization."
      ]
    },
    {
      "cell_type": "code",
      "execution_count": null,
      "id": "dc062c0e",
      "metadata": {
        "id": "dc062c0e"
      },
      "outputs": [],
      "source": [
        "def sigmoid(z):\n",
        "    return 1.0 / (1.0 + np.exp(-z))"
      ]
    },
    {
      "cell_type": "code",
      "execution_count": null,
      "id": "56f06917",
      "metadata": {
        "id": "56f06917"
      },
      "outputs": [],
      "source": [
        "z = np.linspace(-8, 8, 400)"
      ]
    },
    {
      "cell_type": "code",
      "execution_count": null,
      "id": "e9c7e668",
      "metadata": {
        "id": "e9c7e668"
      },
      "outputs": [],
      "source": [
        "s = sigmoid(z)"
      ]
    },
    {
      "cell_type": "markdown",
      "id": "fb16b5a1",
      "metadata": {
        "id": "fb16b5a1"
      },
      "source": [
        "### Explanation\n",
        "Plot the sigmoid curve (single cell for a stable figure)."
      ]
    },
    {
      "cell_type": "code",
      "execution_count": null,
      "id": "2c12c713",
      "metadata": {
        "id": "2c12c713"
      },
      "outputs": [],
      "source": [
        "\n",
        "plt.figure()\n",
        "plt.plot(z, s)\n",
        "plt.xlabel('z')\n",
        "plt.ylabel('sigmoid(z)')\n",
        "plt.title('Sigmoid Function')\n",
        "plt.grid(True)\n",
        "plt.show()\n"
      ]
    },
    {
      "cell_type": "markdown",
      "id": "3b122dbb",
      "metadata": {
        "id": "3b122dbb"
      },
      "source": [
        "### Explanation\n",
        "Define odds and logit; logistic regression models log-odds as linear in features."
      ]
    },
    {
      "cell_type": "code",
      "execution_count": null,
      "id": "a9f75c36",
      "metadata": {
        "id": "a9f75c36"
      },
      "outputs": [],
      "source": [
        "def odds(p):\n",
        "    return p / (1 - p)"
      ]
    },
    {
      "cell_type": "code",
      "execution_count": null,
      "id": "cbce3e0f",
      "metadata": {
        "id": "cbce3e0f"
      },
      "outputs": [],
      "source": [
        "def logit(p):\n",
        "    return np.log(odds(p))"
      ]
    },
    {
      "cell_type": "code",
      "execution_count": null,
      "id": "984ad784",
      "metadata": {
        "id": "984ad784"
      },
      "outputs": [],
      "source": [
        "probs = np.array([0.1, 0.25, 0.5, 0.75, 0.9])"
      ]
    },
    {
      "cell_type": "code",
      "execution_count": null,
      "id": "de0d1a40",
      "metadata": {
        "id": "de0d1a40"
      },
      "outputs": [],
      "source": [
        "probs_odds = odds(probs)"
      ]
    },
    {
      "cell_type": "code",
      "execution_count": null,
      "id": "59f7a0b6",
      "metadata": {
        "id": "59f7a0b6"
      },
      "outputs": [],
      "source": [
        "probs_logit = logit(probs)"
      ]
    },
    {
      "cell_type": "markdown",
      "id": "afd5b68b",
      "metadata": {
        "id": "afd5b68b"
      },
      "source": [
        "### Explanation\n",
        "Show a comparison table."
      ]
    },
    {
      "cell_type": "code",
      "execution_count": null,
      "id": "86c0d850",
      "metadata": {
        "id": "86c0d850"
      },
      "outputs": [],
      "source": [
        "pd.DataFrame({'p': probs, 'odds': probs_odds, 'logit(p)': probs_logit})"
      ]
    },
    {
      "cell_type": "markdown",
      "id": "4dc6a49b",
      "metadata": {
        "id": "4dc6a49b"
      },
      "source": [
        "### Explanation\n",
        "Model: z = w^T x + b; p = σ(z). Predict class 1 if p ≥ 0.5 by default."
      ]
    },
    {
      "cell_type": "code",
      "execution_count": null,
      "id": "e6229296",
      "metadata": {
        "id": "e6229296"
      },
      "outputs": [],
      "source": [
        "def linear_score(X, w, b):\n",
        "    return X @ w + b"
      ]
    },
    {
      "cell_type": "code",
      "execution_count": null,
      "id": "fa9f2d19",
      "metadata": {
        "id": "fa9f2d19"
      },
      "outputs": [],
      "source": [
        "def predict_proba(X, w, b):\n",
        "    return sigmoid(linear_score(X, w, b))"
      ]
    },
    {
      "cell_type": "code",
      "execution_count": null,
      "id": "b0c6acf6",
      "metadata": {
        "id": "b0c6acf6"
      },
      "outputs": [],
      "source": [
        "def predict_class(X, w, b, threshold=0.5):\n",
        "    return (predict_proba(X, w, b) >= threshold).astype(int)"
      ]
    },
    {
      "cell_type": "markdown",
      "id": "324c8963",
      "metadata": {
        "id": "324c8963"
      },
      "source": [
        "### Explanation\n",
        "Log-loss with probability clipping for numerical stability."
      ]
    },
    {
      "cell_type": "code",
      "execution_count": null,
      "id": "f65648fe",
      "metadata": {
        "id": "f65648fe"
      },
      "outputs": [],
      "source": [
        "def log_loss(y_true, p):\n",
        "    eps = 1e-15\n",
        "    p = np.clip(p, eps, 1 - eps)\n",
        "    return -np.mean(y_true * np.log(p) + (1 - y_true) * np.log(1 - p))"
      ]
    },
    {
      "cell_type": "markdown",
      "id": "2c1c1f85",
      "metadata": {
        "id": "2c1c1f85"
      },
      "source": [
        "### Explanation\n",
        "Closed-form gradients enable efficient gradient descent."
      ]
    },
    {
      "cell_type": "code",
      "execution_count": null,
      "id": "7993e036",
      "metadata": {
        "id": "7993e036"
      },
      "outputs": [],
      "source": [
        "def gradients(X, y, w, b):\n",
        "    p = predict_proba(X, w, b)\n",
        "    error = p - y\n",
        "    grad_w = X.T @ error / X.shape[0]\n",
        "    grad_b = np.mean(error)\n",
        "    return grad_w, grad_b"
      ]
    },
    {
      "cell_type": "markdown",
      "id": "f7bcca39",
      "metadata": {
        "id": "f7bcca39"
      },
      "source": [
        "### Explanation\n",
        "Synthesize a clean 2D dataset (two Gaussian blobs)."
      ]
    },
    {
      "cell_type": "code",
      "execution_count": null,
      "id": "ecb95dc7",
      "metadata": {
        "id": "ecb95dc7"
      },
      "outputs": [],
      "source": [
        "n = 600"
      ]
    },
    {
      "cell_type": "code",
      "execution_count": null,
      "id": "d54a619c",
      "metadata": {
        "id": "d54a619c"
      },
      "outputs": [],
      "source": [
        "X0 = np.random.multivariate_normal(mean=[-1.5, -1.0], cov=[[1.0, 0.2],[0.2, 1.0]], size=n//2)"
      ]
    },
    {
      "cell_type": "code",
      "execution_count": null,
      "id": "3f32e02a",
      "metadata": {
        "id": "3f32e02a"
      },
      "outputs": [],
      "source": [
        "X1 = np.random.multivariate_normal(mean=[1.3, 1.0], cov=[[1.0, -0.1],[-0.1, 1.0]], size=n//2)"
      ]
    },
    {
      "cell_type": "code",
      "execution_count": null,
      "id": "4c131b07",
      "metadata": {
        "id": "4c131b07"
      },
      "outputs": [],
      "source": [
        "X = np.vstack([X0, X1])"
      ]
    },
    {
      "cell_type": "code",
      "execution_count": null,
      "id": "fdb8fccf",
      "metadata": {
        "id": "fdb8fccf"
      },
      "outputs": [],
      "source": [
        "y = np.hstack([np.zeros(n//2, dtype=int), np.ones(n//2, dtype=int)])"
      ]
    },
    {
      "cell_type": "markdown",
      "id": "37518e52",
      "metadata": {
        "id": "37518e52"
      },
      "source": [
        "### Explanation\n",
        "Shuffle rows so classes are mixed."
      ]
    },
    {
      "cell_type": "code",
      "execution_count": null,
      "id": "8e7bad6c",
      "metadata": {
        "id": "8e7bad6c"
      },
      "outputs": [],
      "source": [
        "perm = np.random.permutation(n)"
      ]
    },
    {
      "cell_type": "code",
      "execution_count": null,
      "id": "b54f3315",
      "metadata": {
        "id": "b54f3315"
      },
      "outputs": [],
      "source": [
        "X = X[perm]"
      ]
    },
    {
      "cell_type": "code",
      "execution_count": null,
      "id": "dfc87c52",
      "metadata": {
        "id": "dfc87c52"
      },
      "outputs": [],
      "source": [
        "y = y[perm]"
      ]
    },
    {
      "cell_type": "markdown",
      "id": "019f6b0e",
      "metadata": {
        "id": "019f6b0e"
      },
      "source": [
        "### Explanation\n",
        "Scatter plot (single cell)."
      ]
    },
    {
      "cell_type": "code",
      "execution_count": null,
      "id": "d7872daa",
      "metadata": {
        "id": "d7872daa"
      },
      "outputs": [],
      "source": [
        "\n",
        "plt.figure()\n",
        "plt.scatter(X[y==0,0], X[y==0,1], alpha=0.6, label='class 0')\n",
        "plt.scatter(X[y==1,0], X[y==1,1], alpha=0.6, label='class 1')\n",
        "plt.legend()\n",
        "plt.title('Synthetic Dataset')\n",
        "plt.xlabel('x1')\n",
        "plt.ylabel('x2')\n",
        "plt.grid(True)\n",
        "plt.show()\n"
      ]
    },
    {
      "cell_type": "markdown",
      "id": "67779540",
      "metadata": {
        "id": "67779540"
      },
      "source": [
        "### Explanation\n",
        "Standardize features to zero mean and unit variance."
      ]
    },
    {
      "cell_type": "code",
      "execution_count": null,
      "id": "0a6f220f",
      "metadata": {
        "id": "0a6f220f"
      },
      "outputs": [],
      "source": [
        "X_mean = X.mean(axis=0)"
      ]
    },
    {
      "cell_type": "code",
      "execution_count": null,
      "id": "4cea640b",
      "metadata": {
        "id": "4cea640b"
      },
      "outputs": [],
      "source": [
        "X_std = X.std(axis=0)"
      ]
    },
    {
      "cell_type": "code",
      "execution_count": null,
      "id": "9d711f2e",
      "metadata": {
        "id": "9d711f2e"
      },
      "outputs": [],
      "source": [
        "Xz = (X - X_mean) / X_std"
      ]
    },
    {
      "cell_type": "markdown",
      "id": "89d3f91c",
      "metadata": {
        "id": "89d3f91c"
      },
      "source": [
        "### Explanation\n",
        "Initialize parameters and choose training hyperparameters."
      ]
    },
    {
      "cell_type": "code",
      "execution_count": null,
      "id": "9fce62d3",
      "metadata": {
        "id": "9fce62d3"
      },
      "outputs": [],
      "source": [
        "w = np.zeros(Xz.shape[1])"
      ]
    },
    {
      "cell_type": "code",
      "execution_count": null,
      "id": "b863198a",
      "metadata": {
        "id": "b863198a"
      },
      "outputs": [],
      "source": [
        "b = 0.0"
      ]
    },
    {
      "cell_type": "code",
      "execution_count": null,
      "id": "84e5e1f5",
      "metadata": {
        "id": "84e5e1f5"
      },
      "outputs": [],
      "source": [
        "lr = 0.1"
      ]
    },
    {
      "cell_type": "code",
      "execution_count": null,
      "id": "171773a8",
      "metadata": {
        "id": "171773a8"
      },
      "outputs": [],
      "source": [
        "epochs = 300"
      ]
    },
    {
      "cell_type": "markdown",
      "id": "ed5f2a81",
      "metadata": {
        "id": "ed5f2a81"
      },
      "source": [
        "### Explanation\n",
        "Training loop; record log-loss periodically."
      ]
    },
    {
      "cell_type": "code",
      "execution_count": null,
      "id": "4cc985ad",
      "metadata": {
        "id": "4cc985ad"
      },
      "outputs": [],
      "source": [
        "\n",
        "history = []\n",
        "for epoch in range(epochs):\n",
        "    gw, gb = gradients(Xz, y, w, b)\n",
        "    w -= lr * gw\n",
        "    b -= lr * gb\n",
        "    if (epoch+1) % 10 == 0:\n",
        "        p = predict_proba(Xz, w, b)\n",
        "        loss = log_loss(y, p)\n",
        "        history.append(loss)\n"
      ]
    },
    {
      "cell_type": "markdown",
      "id": "1f0ee181",
      "metadata": {
        "id": "1f0ee181"
      },
      "source": [
        "### Explanation\n",
        "Plot log-loss vs epochs (single cell)."
      ]
    },
    {
      "cell_type": "code",
      "execution_count": null,
      "id": "01cc442e",
      "metadata": {
        "id": "01cc442e"
      },
      "outputs": [],
      "source": [
        "\n",
        "plt.figure()\n",
        "plt.plot(np.arange(10, epochs+1, 10), history)\n",
        "plt.xlabel('Epoch')\n",
        "plt.ylabel('Log-Loss')\n",
        "plt.title('From-Scratch Training Loss')\n",
        "plt.grid(True)\n",
        "plt.show()\n"
      ]
    },
    {
      "cell_type": "markdown",
      "id": "839d07fc",
      "metadata": {
        "id": "839d07fc"
      },
      "source": [
        "### Explanation\n",
        "Training accuracy."
      ]
    },
    {
      "cell_type": "code",
      "execution_count": null,
      "id": "408cda76",
      "metadata": {
        "id": "408cda76"
      },
      "outputs": [],
      "source": [
        "yhat = predict_class(Xz, w, b)"
      ]
    },
    {
      "cell_type": "code",
      "execution_count": null,
      "id": "0681eded",
      "metadata": {
        "id": "0681eded"
      },
      "outputs": [],
      "source": [
        "acc = (yhat == y).mean()"
      ]
    },
    {
      "cell_type": "code",
      "execution_count": null,
      "id": "2ca8d296",
      "metadata": {
        "id": "2ca8d296"
      },
      "outputs": [],
      "source": [
        "acc"
      ]
    },
    {
      "cell_type": "markdown",
      "id": "e49a0a86",
      "metadata": {
        "id": "e49a0a86"
      },
      "source": [
        "### Explanation\n",
        "Decision boundary with a robust colorbar (pass the mappable explicitly)."
      ]
    },
    {
      "cell_type": "code",
      "execution_count": null,
      "id": "59874207",
      "metadata": {
        "id": "59874207"
      },
      "outputs": [],
      "source": [
        "\n",
        "xx, yy = np.meshgrid(\n",
        "    np.linspace(Xz[:,0].min()-0.5, Xz[:,0].max()+0.5, 200),\n",
        "    np.linspace(Xz[:,1].min()-0.5, Xz[:,1].max()+0.5, 200),\n",
        ")\n",
        "grid = np.c_[xx.ravel(), yy.ravel()]\n",
        "pp = predict_proba(grid, w, b).reshape(xx.shape)\n",
        "\n",
        "fig, ax = plt.subplots()\n",
        "cf = ax.contourf(xx, yy, pp, levels=30, alpha=0.3)\n",
        "ax.scatter(Xz[y==0,0], Xz[y==0,1], alpha=0.6, label='class 0')\n",
        "ax.scatter(Xz[y==1,0], Xz[y==1,1], alpha=0.6, label='class 1')\n",
        "cbar = fig.colorbar(cf, ax=ax)\n",
        "cbar.set_label('P(y=1)')\n",
        "ax.set_title('Decision Boundary (From Scratch)')\n",
        "ax.set_xlabel('x1 (standardized)')\n",
        "ax.set_ylabel('x2 (standardized)')\n",
        "ax.legend()\n",
        "plt.show()\n"
      ]
    },
    {
      "cell_type": "markdown",
      "id": "19cfaf31",
      "metadata": {
        "id": "19cfaf31"
      },
      "source": [
        "### Explanation\n",
        "Switch to scikit-learn; stratified train/test split."
      ]
    },
    {
      "cell_type": "code",
      "execution_count": null,
      "id": "82af4d1f",
      "metadata": {
        "id": "82af4d1f"
      },
      "outputs": [],
      "source": [
        "from sklearn.linear_model import LogisticRegression"
      ]
    },
    {
      "cell_type": "code",
      "execution_count": null,
      "id": "d18e98ee",
      "metadata": {
        "id": "d18e98ee"
      },
      "outputs": [],
      "source": [
        "from sklearn.model_selection import train_test_split"
      ]
    },
    {
      "cell_type": "code",
      "execution_count": null,
      "id": "e3e1ce91",
      "metadata": {
        "id": "e3e1ce91"
      },
      "outputs": [],
      "source": [
        "from sklearn.metrics import accuracy_score, precision_recall_fscore_support, roc_curve, auc, confusion_matrix"
      ]
    },
    {
      "cell_type": "code",
      "execution_count": null,
      "id": "8d3f434b",
      "metadata": {
        "id": "8d3f434b"
      },
      "outputs": [],
      "source": [
        "X_train, X_test, y_train, y_test = train_test_split(Xz, y, test_size=0.25, random_state=42, stratify=y)"
      ]
    },
    {
      "cell_type": "markdown",
      "id": "ee37d323",
      "metadata": {
        "id": "ee37d323"
      },
      "source": [
        "### Explanation\n",
        "Instantiate and fit regularized LR; then get predictions and probabilities."
      ]
    },
    {
      "cell_type": "code",
      "execution_count": null,
      "id": "9171d562",
      "metadata": {
        "id": "9171d562"
      },
      "outputs": [],
      "source": [
        "clf = LogisticRegression(max_iter=1000)"
      ]
    },
    {
      "cell_type": "code",
      "execution_count": null,
      "id": "605bdc30",
      "metadata": {
        "id": "605bdc30"
      },
      "outputs": [],
      "source": [
        "clf.fit(X_train, y_train)"
      ]
    },
    {
      "cell_type": "code",
      "execution_count": null,
      "id": "1d21d7b5",
      "metadata": {
        "id": "1d21d7b5"
      },
      "outputs": [],
      "source": [
        "y_pred = clf.predict(X_test)"
      ]
    },
    {
      "cell_type": "code",
      "execution_count": null,
      "id": "4be36c48",
      "metadata": {
        "id": "4be36c48"
      },
      "outputs": [],
      "source": [
        "test_acc = accuracy_score(y_test, y_pred)"
      ]
    },
    {
      "cell_type": "code",
      "execution_count": null,
      "id": "820d91b7",
      "metadata": {
        "id": "820d91b7"
      },
      "outputs": [],
      "source": [
        "test_acc"
      ]
    },
    {
      "cell_type": "code",
      "execution_count": null,
      "id": "6dc1fffc",
      "metadata": {
        "id": "6dc1fffc"
      },
      "outputs": [],
      "source": [
        "y_proba = clf.predict_proba(X_test)[:, 1]"
      ]
    },
    {
      "cell_type": "markdown",
      "id": "b05a041f",
      "metadata": {
        "id": "b05a041f"
      },
      "source": [
        "### Explanation\n",
        "Precision/Recall/F1 and the confusion matrix."
      ]
    },
    {
      "cell_type": "code",
      "execution_count": null,
      "id": "28f49fee",
      "metadata": {
        "id": "28f49fee"
      },
      "outputs": [],
      "source": [
        "prec, rec, f1, _ = precision_recall_fscore_support(y_test, y_pred, average='binary', zero_division=0)"
      ]
    },
    {
      "cell_type": "code",
      "execution_count": null,
      "id": "44e8aaeb",
      "metadata": {
        "id": "44e8aaeb"
      },
      "outputs": [],
      "source": [
        "(prec, rec, f1)"
      ]
    },
    {
      "cell_type": "code",
      "execution_count": null,
      "id": "7c361b9d",
      "metadata": {
        "id": "7c361b9d"
      },
      "outputs": [],
      "source": [
        "cm = confusion_matrix(y_test, y_pred)"
      ]
    },
    {
      "cell_type": "code",
      "execution_count": null,
      "id": "f55d4b6b",
      "metadata": {
        "id": "f55d4b6b"
      },
      "outputs": [],
      "source": [
        "cm"
      ]
    },
    {
      "cell_type": "markdown",
      "id": "e059e78d",
      "metadata": {
        "id": "e059e78d"
      },
      "source": [
        "### Explanation\n",
        "ROC curve & AUC (single cell)."
      ]
    },
    {
      "cell_type": "code",
      "execution_count": null,
      "id": "5b0762b8",
      "metadata": {
        "id": "5b0762b8"
      },
      "outputs": [],
      "source": [
        "\n",
        "fpr, tpr, _ = roc_curve(y_test, y_proba)\n",
        "roc_auc = auc(fpr, tpr)\n",
        "fig, ax = plt.subplots()\n",
        "ax.plot(fpr, tpr, label=f'ROC (AUC = {roc_auc:.3f})')\n",
        "ax.plot([0,1], [0,1], linestyle='--')\n",
        "ax.set_xlabel('False Positive Rate')\n",
        "ax.set_ylabel('True Positive Rate')\n",
        "ax.set_title('ROC Curve')\n",
        "ax.legend(loc='lower right')\n",
        "ax.grid(True)\n",
        "plt.show()\n"
      ]
    },
    {
      "cell_type": "markdown",
      "id": "17d687f7",
      "metadata": {
        "id": "17d687f7"
      },
      "source": [
        "### Explanation\n",
        "Precision–Recall curve & Average Precision (single cell)."
      ]
    },
    {
      "cell_type": "code",
      "execution_count": null,
      "id": "1868cadc",
      "metadata": {
        "id": "1868cadc"
      },
      "outputs": [],
      "source": [
        "\n",
        "from sklearn.metrics import precision_recall_curve, average_precision_score\n",
        "pr_prec, pr_rec, _ = precision_recall_curve(y_test, y_proba)\n",
        "ap = average_precision_score(y_test, y_proba)\n",
        "fig, ax = plt.subplots()\n",
        "ax.plot(pr_rec, pr_prec, label=f'PR (AP = {ap:.3f})')\n",
        "ax.set_xlabel('Recall')\n",
        "ax.set_ylabel('Precision')\n",
        "ax.set_title('Precision-Recall Curve')\n",
        "ax.legend(loc='lower left')\n",
        "ax.grid(True)\n",
        "plt.show()\n"
      ]
    },
    {
      "cell_type": "markdown",
      "id": "90b1aee0",
      "metadata": {
        "id": "90b1aee0"
      },
      "source": [
        "### Explanation\n",
        "Inspect coefficients/intercept and convert to odds ratios."
      ]
    },
    {
      "cell_type": "code",
      "execution_count": null,
      "id": "da44d95a",
      "metadata": {
        "id": "da44d95a"
      },
      "outputs": [],
      "source": [
        "clf.coef_, clf.intercept_"
      ]
    },
    {
      "cell_type": "code",
      "execution_count": null,
      "id": "e85c595f",
      "metadata": {
        "id": "e85c595f"
      },
      "outputs": [],
      "source": [
        "odds_ratios = np.exp(clf.coef_)"
      ]
    },
    {
      "cell_type": "code",
      "execution_count": null,
      "id": "d4c234ee",
      "metadata": {
        "id": "d4c234ee"
      },
      "outputs": [],
      "source": [
        "odds_ratios"
      ]
    },
    {
      "cell_type": "markdown",
      "id": "3991d7c0",
      "metadata": {
        "id": "3991d7c0"
      },
      "source": [
        "### Explanation\n",
        "Show effect of stronger regularization (smaller C)."
      ]
    },
    {
      "cell_type": "code",
      "execution_count": null,
      "id": "074a6c85",
      "metadata": {
        "id": "074a6c85"
      },
      "outputs": [],
      "source": [
        "clf_strong = LogisticRegression(C=0.1, max_iter=1000)"
      ]
    },
    {
      "cell_type": "code",
      "execution_count": null,
      "id": "9bef62e5",
      "metadata": {
        "id": "9bef62e5"
      },
      "outputs": [],
      "source": [
        "clf_strong.fit(X_train, y_train)"
      ]
    },
    {
      "cell_type": "code",
      "execution_count": null,
      "id": "6c5e2035",
      "metadata": {
        "id": "6c5e2035"
      },
      "outputs": [],
      "source": [
        "clf_strong.coef_"
      ]
    },
    {
      "cell_type": "markdown",
      "id": "d4eed7a9",
      "metadata": {
        "id": "d4eed7a9"
      },
      "source": [
        "### Explanation\n",
        "Pipeline: scaling + one-hot encoding + LR (prevents leakage)."
      ]
    },
    {
      "cell_type": "code",
      "execution_count": null,
      "id": "37ee0dd9",
      "metadata": {
        "id": "37ee0dd9"
      },
      "outputs": [],
      "source": [
        "from sklearn.pipeline import Pipeline"
      ]
    },
    {
      "cell_type": "code",
      "execution_count": null,
      "id": "6f312625",
      "metadata": {
        "id": "6f312625"
      },
      "outputs": [],
      "source": [
        "from sklearn.preprocessing import StandardScaler"
      ]
    },
    {
      "cell_type": "code",
      "execution_count": null,
      "id": "16de5933",
      "metadata": {
        "id": "16de5933"
      },
      "outputs": [],
      "source": [
        "from sklearn.compose import ColumnTransformer"
      ]
    },
    {
      "cell_type": "code",
      "execution_count": null,
      "id": "cbd72f8a",
      "metadata": {
        "id": "cbd72f8a"
      },
      "outputs": [],
      "source": [
        "from sklearn.preprocessing import OneHotEncoder"
      ]
    },
    {
      "cell_type": "code",
      "execution_count": null,
      "id": "27da05e7",
      "metadata": {
        "id": "27da05e7"
      },
      "outputs": [],
      "source": [
        "df = pd.DataFrame({'age':[22,25,47,52,46,56,55,60],'income':[35,40,80,90,83,120,110,130],'city':['A','B','A','B','B','A','B','A'],'y':[0,0,1,1,1,1,1,1]})"
      ]
    },
    {
      "cell_type": "code",
      "execution_count": null,
      "id": "12b829ab",
      "metadata": {
        "id": "12b829ab"
      },
      "outputs": [],
      "source": [
        "X_mixed = df[['age','income','city']]"
      ]
    },
    {
      "cell_type": "code",
      "execution_count": null,
      "id": "011ecfc1",
      "metadata": {
        "id": "011ecfc1"
      },
      "outputs": [],
      "source": [
        "y_mixed = df['y'].values"
      ]
    },
    {
      "cell_type": "code",
      "execution_count": null,
      "id": "a799a919",
      "metadata": {
        "id": "a799a919"
      },
      "outputs": [],
      "source": [
        "num_features = ['age','income']"
      ]
    },
    {
      "cell_type": "code",
      "execution_count": null,
      "id": "e6443c1b",
      "metadata": {
        "id": "e6443c1b"
      },
      "outputs": [],
      "source": [
        "cat_features = ['city']"
      ]
    },
    {
      "cell_type": "code",
      "execution_count": null,
      "id": "181cd5c5",
      "metadata": {
        "id": "181cd5c5"
      },
      "outputs": [],
      "source": [
        "preprocess = ColumnTransformer([('num', StandardScaler(), num_features), ('cat', OneHotEncoder(handle_unknown='ignore'), cat_features)])"
      ]
    },
    {
      "cell_type": "code",
      "execution_count": null,
      "id": "0e9dfd4e",
      "metadata": {
        "id": "0e9dfd4e"
      },
      "outputs": [],
      "source": [
        "pipe = Pipeline(steps=[('prep', preprocess), ('clf', LogisticRegression(max_iter=1000))])"
      ]
    },
    {
      "cell_type": "code",
      "execution_count": null,
      "id": "2ded2ed6",
      "metadata": {
        "id": "2ded2ed6"
      },
      "outputs": [],
      "source": [
        "pipe.fit(X_mixed, y_mixed)"
      ]
    },
    {
      "cell_type": "code",
      "execution_count": null,
      "id": "b6104e50",
      "metadata": {
        "id": "b6104e50"
      },
      "outputs": [],
      "source": [
        "pipe.predict_proba(pd.DataFrame({'age':[28], 'income':[50], 'city':['A']}))"
      ]
    },
    {
      "cell_type": "markdown",
      "id": "3db78050",
      "metadata": {
        "id": "3db78050"
      },
      "source": [
        "### Explanation\n",
        "Grid search over C with 5-fold CV (ROC-AUC scoring)."
      ]
    },
    {
      "cell_type": "code",
      "execution_count": null,
      "id": "21d93a43",
      "metadata": {
        "id": "21d93a43"
      },
      "outputs": [],
      "source": [
        "from sklearn.model_selection import GridSearchCV"
      ]
    },
    {
      "cell_type": "code",
      "execution_count": null,
      "id": "9981740b",
      "metadata": {
        "id": "9981740b"
      },
      "outputs": [],
      "source": [
        "param_grid = {'clf__C':[0.01, 0.1, 1.0, 10.0], 'clf__penalty':['l2'], 'clf__solver':['lbfgs']}"
      ]
    },
    {
      "cell_type": "code",
      "execution_count": null,
      "id": "8a5482fd",
      "metadata": {
        "id": "8a5482fd"
      },
      "outputs": [],
      "source": [
        "grid = GridSearchCV(pipe, param_grid=param_grid, cv=5, scoring='roc_auc')"
      ]
    },
    {
      "cell_type": "code",
      "execution_count": null,
      "id": "b9dd66bb",
      "metadata": {
        "id": "b9dd66bb"
      },
      "outputs": [],
      "source": [
        "grid.fit(X_mixed, y_mixed)"
      ]
    },
    {
      "cell_type": "code",
      "execution_count": null,
      "id": "ab8238af",
      "metadata": {
        "id": "ab8238af"
      },
      "outputs": [],
      "source": [
        "grid.best_params_, grid.best_score_"
      ]
    },
    {
      "cell_type": "markdown",
      "id": "89028a66",
      "metadata": {
        "id": "89028a66"
      },
      "source": [
        "### Explanation\n",
        "Threshold sweep plot (single cell so it renders reliably)."
      ]
    },
    {
      "cell_type": "code",
      "execution_count": null,
      "id": "b9997441",
      "metadata": {
        "id": "b9997441"
      },
      "outputs": [],
      "source": [
        "\n",
        "thresholds = np.linspace(0, 1, 101)\n",
        "prec_list, rec_list = [], []\n",
        "for t in thresholds:\n",
        "    y_pred_t = (y_proba >= t).astype(int)\n",
        "    pr, rc, _, _ = precision_recall_fscore_support(y_test, y_pred_t, average='binary', zero_division=0)\n",
        "    prec_list.append(pr)\n",
        "    rec_list.append(rc)\n",
        "fig, ax = plt.subplots()\n",
        "ax.plot(thresholds, prec_list, label='Precision')\n",
        "ax.plot(thresholds, rec_list, label='Recall')\n",
        "ax.set_xlabel('Threshold')\n",
        "ax.set_ylabel('Score')\n",
        "ax.set_title('Precision/Recall vs. Threshold')\n",
        "ax.legend()\n",
        "ax.grid(True)\n",
        "plt.show()\n"
      ]
    },
    {
      "cell_type": "markdown",
      "id": "60c01516",
      "metadata": {
        "id": "60c01516"
      },
      "source": [
        "### Explanation\n",
        "Handle imbalance with class weights; multinomial for naturally multiclass problems."
      ]
    },
    {
      "cell_type": "code",
      "execution_count": null,
      "id": "c6be3d74",
      "metadata": {
        "id": "c6be3d74"
      },
      "outputs": [],
      "source": [
        "imb_clf = LogisticRegression(class_weight='balanced', max_iter=1000)"
      ]
    },
    {
      "cell_type": "code",
      "execution_count": null,
      "id": "67bf3165",
      "metadata": {
        "id": "67bf3165"
      },
      "outputs": [],
      "source": [
        "imb_clf.fit(X_train, y_train)"
      ]
    },
    {
      "cell_type": "code",
      "execution_count": null,
      "id": "2aa81c88",
      "metadata": {
        "id": "2aa81c88"
      },
      "outputs": [],
      "source": [
        "multi_clf = LogisticRegression(multi_class='multinomial', solver='lbfgs', max_iter=1000)"
      ]
    },
    {
      "cell_type": "code",
      "execution_count": null,
      "id": "d6b55155",
      "metadata": {
        "id": "d6b55155"
      },
      "outputs": [],
      "source": [
        "multi_clf.fit(X_train, y_train)"
      ]
    },
    {
      "cell_type": "markdown",
      "id": "26ef3c33",
      "metadata": {
        "id": "26ef3c33"
      },
      "source": [
        "### Explanation\n",
        "Add L2 to the from-scratch objective; gradient adds 2*lam*w."
      ]
    },
    {
      "cell_type": "code",
      "execution_count": null,
      "id": "6ce50d3b",
      "metadata": {
        "id": "6ce50d3b"
      },
      "outputs": [],
      "source": [
        "def log_loss_l2(y_true, p, w, lam=1.0):\n",
        "    return log_loss(y_true, p) + lam * np.sum(w*w)"
      ]
    },
    {
      "cell_type": "code",
      "execution_count": null,
      "id": "5200b39f",
      "metadata": {
        "id": "5200b39f"
      },
      "outputs": [],
      "source": [
        "def gradients_l2(X, y, w, b, lam=1.0):\n",
        "    gw, gb = gradients(X, y, w, b)\n",
        "    gw = gw + 2*lam*w\n",
        "    return gw, gb"
      ]
    },
    {
      "cell_type": "code",
      "execution_count": null,
      "id": "2806f3d4",
      "metadata": {
        "id": "2806f3d4"
      },
      "outputs": [],
      "source": [
        "\n",
        "w2 = np.zeros_like(w)\n",
        "b2 = 0.0\n",
        "lam = 0.1\n",
        "for epoch in range(150):\n",
        "    gw, gb = gradients_l2(Xz, y, w2, b2, lam=lam)\n",
        "    w2 -= 0.1 * gw\n",
        "    b2 -= 0.1 * gb\n"
      ]
    },
    {
      "cell_type": "markdown",
      "id": "d2c30ce7",
      "metadata": {
        "id": "d2c30ce7"
      },
      "source": [
        "### Explanation\n",
        "**Pitfalls & Checklist**\n",
        "- [ ] Scale features before regularized LR.\n",
        "- [ ] Avoid data leakage (fit preprocessing on train or use a Pipeline).\n",
        "- [ ] Inspect PR/ROC on imbalanced data (accuracy can mislead).\n",
        "- [ ] Watch collinearity; regularize.\n",
        "- [ ] Ensure convergence (solver, max_iter).\n",
        "- [ ] Interpret coefficients in standardized units.\n",
        "- [ ] Linear decision boundary: consider interactions or other models if needed."
      ]
    }
  ],
  "metadata": {
    "colab": {
      "provenance": [],
      "include_colab_link": true
    },
    "language_info": {
      "name": "python"
    },
    "kernelspec": {
      "name": "python3",
      "display_name": "Python 3"
    }
  },
  "nbformat": 4,
  "nbformat_minor": 5
}